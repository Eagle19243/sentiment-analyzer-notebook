{
 "cells": [
  {
   "cell_type": "markdown",
   "metadata": {},
   "source": [
    "# Install Dependencies"
   ]
  },
  {
   "cell_type": "code",
   "execution_count": null,
   "metadata": {},
   "outputs": [],
   "source": [
    "# !pip install emoji\n",
    "# !pip install nltk\n",
    "# !pip install pandas\n",
    "# !pip install -U spacy\n",
    "# !python -m spacy download en_core_web_sm"
   ]
  },
  {
   "cell_type": "markdown",
   "metadata": {},
   "source": [
    "# Run"
   ]
  },
  {
   "cell_type": "code",
   "execution_count": null,
   "metadata": {},
   "outputs": [],
   "source": [
    "import json\n",
    "import re\n",
    "import csv\n",
    "import spacy\n",
    "import nltk\n",
    "import en_core_web_sm\n",
    "import pandas as pd\n",
    "from emoji import get_emoji_regexp\n",
    "\n",
    "# nltk.download('wordnet')\n",
    "# nltk.download('vader_lexicon')\n",
    "# nltk.download('punkt')\n",
    "\n",
    "from nltk.corpus import stopwords\n",
    "from nltk.tokenize import RegexpTokenizer, sent_tokenize\n",
    "from nltk.stem import WordNetLemmatizer\n",
    "from nltk.stem import PorterStemmer\n",
    "from nltk import FreqDist\n",
    "from nltk.sentiment.vader import SentimentIntensityAnalyzer as SIA"
   ]
  },
  {
   "cell_type": "code",
   "execution_count": null,
   "metadata": {},
   "outputs": [],
   "source": [
    "# Files\n",
    "input = './input.csv'\n",
    "output = './output.csv'\n",
    "\n",
    "# Load tickers\n",
    "df = pd.read_csv('./cleaned_tickers.csv')\n",
    "tickers = df['ticker'].tolist()\n",
    "row_num = 0"
   ]
  },
  {
   "cell_type": "code",
   "execution_count": null,
   "metadata": {},
   "outputs": [],
   "source": [
    "def get_sentiment(text):\n",
    "    # Remove emojis if exists\n",
    "    text = get_emoji_regexp().sub(u'', text)\n",
    "    text = re.sub(r'\\sand\\s|\\sor\\s', '. ', text)\n",
    "    tokenized_str = sent_tokenize(text)\n",
    "\n",
    "    # Remove stop words\n",
    "    nlp = en_core_web_sm.load()\n",
    "    all_stopwords = nlp.Defaults.stop_words\n",
    "    tokens_without_sw = [word for word in tokenized_str if word not in all_stopwords]\n",
    "\n",
    "    lemmatizer = WordNetLemmatizer()\n",
    "    lemmatized_tokens = ([lemmatizer.lemmatize(word) for word in tokens_without_sw])\n",
    "    cleaned_output = lemmatized_tokens\n",
    "\n",
    "    # Apply a sentiment analyzer\n",
    "    sia = SIA()\n",
    "    result = dict()\n",
    "\n",
    "    for sentence in cleaned_output:\n",
    "        pol_score = sia.polarity_scores(sentence)\n",
    "        tokenizer = RegexpTokenizer('\\w+|\\$[\\d\\.]+|http\\S+')\n",
    "        words = tokenizer.tokenize(sentence)\n",
    "        ticker = None\n",
    "\n",
    "        for word in words:\n",
    "            if word in tickers:\n",
    "                ticker = word\n",
    "\n",
    "        if not ticker:\n",
    "            continue\n",
    "\n",
    "        if ticker in result:\n",
    "            result[ticker] = pol_score['compound'] if pol_score['compound'] > result[ticker] else result[ticker]\n",
    "        else:\n",
    "            result[ticker] = pol_score['compound']\n",
    "\n",
    "    data = []\n",
    "    for ticker, sentiment_score in result.items():\n",
    "        data.append({\n",
    "            'ticker': ticker,\n",
    "            'sentiment_score': sentiment_score\n",
    "        })\n",
    "    return data"
   ]
  },
  {
   "cell_type": "code",
   "execution_count": null,
   "metadata": {},
   "outputs": [],
   "source": [
    "with open(output, 'w', encoding='utf8') as csv_file:\n",
    "    fields = ['Post Title', 'Post Body Text', 'Google Natural Language API Output', 'Library Output']\n",
    "    writer = csv.writer(csv_file, lineterminator='\\n')\n",
    "    writer.writerow(fields)\n",
    "    \n",
    "with open(input, encoding='utf8') as csv_file:\n",
    "    reader = csv.reader(csv_file, dialect=csv.excel)    \n",
    "    for row in reader:\n",
    "        row_num = row_num + 1\n",
    "        if row_num == 1:\n",
    "            continue\n",
    "        with open(output, 'a', encoding='utf8', newline='') as csv_file:\n",
    "            writer = csv.writer(csv_file, lineterminator='\\n')\n",
    "            sentiment = get_sentiment(f'{row[0]}\\n\\n{row[1]}')\n",
    "            writer.writerow([row[0], row[1], row[2], str(sentiment)])\n",
    "print('completed')"
   ]
  }
 ],
 "metadata": {
  "kernelspec": {
   "display_name": "Python 3",
   "language": "python",
   "name": "python3"
  },
  "language_info": {
   "codemirror_mode": {
    "name": "ipython",
    "version": 3
   },
   "file_extension": ".py",
   "mimetype": "text/x-python",
   "name": "python",
   "nbconvert_exporter": "python",
   "pygments_lexer": "ipython3",
   "version": "3.8.5"
  }
 },
 "nbformat": 4,
 "nbformat_minor": 4
}
