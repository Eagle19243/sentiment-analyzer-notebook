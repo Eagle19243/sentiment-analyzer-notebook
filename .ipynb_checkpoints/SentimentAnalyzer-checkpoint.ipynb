{
 "cells": [
  {
   "cell_type": "markdown",
   "metadata": {},
   "source": [
    "# Install Dependencies"
   ]
  },
  {
   "cell_type": "code",
   "execution_count": 49,
   "metadata": {},
   "outputs": [],
   "source": [
    "# !pip install emoji\n",
    "# !pip install nltk\n",
    "# !pip install pandas\n",
    "# !pip install -U spacy\n",
    "# !python -m spacy download en_core_web_sm"
   ]
  },
  {
   "cell_type": "markdown",
   "metadata": {},
   "source": [
    "# Run"
   ]
  },
  {
   "cell_type": "code",
   "execution_count": 50,
   "metadata": {},
   "outputs": [],
   "source": [
    "import json\n",
    "import re\n",
    "import spacy\n",
    "import nltk\n",
    "import en_core_web_sm\n",
    "import pandas as pd\n",
    "from emoji import get_emoji_regexp\n",
    "\n",
    "# nltk.download('wordnet')\n",
    "# nltk.download('vader_lexicon')\n",
    "# nltk.download('punkt')\n",
    "\n",
    "from nltk.corpus import stopwords\n",
    "from nltk.tokenize import RegexpTokenizer, sent_tokenize\n",
    "from nltk.stem import WordNetLemmatizer\n",
    "from nltk.stem import PorterStemmer\n",
    "from nltk import FreqDist\n",
    "from nltk.sentiment.vader import SentimentIntensityAnalyzer as SIA"
   ]
  },
  {
   "cell_type": "code",
   "execution_count": 51,
   "metadata": {},
   "outputs": [],
   "source": [
    "text = \"TSLA is going to the moon. I think TSLA is the greatest company ever and GM and other car manufacturers don't stand a chance when competing with TSLA\""
   ]
  },
  {
   "cell_type": "code",
   "execution_count": 52,
   "metadata": {},
   "outputs": [
    {
     "name": "stdout",
     "output_type": "stream",
     "text": [
      "['TSLA is going to the moon.', 'I think TSLA is the greatest company ever .', 'GM .', \"other car manufacturers don't st. a chance when competing with TSLA\"]\n",
      "[{'ticker': 'TSLA', 'sentiment_score': 0.0}, {'ticker': 'TSLA', 'sentiment_score': 0.6369}, {'ticker': 'M', 'sentiment_score': 0.0}, {'ticker': 'TSLA', 'sentiment_score': -0.1877}]\n"
     ]
    }
   ],
   "source": [
    "# Load tickers\n",
    "df = pd.read_csv('./cleaned_tickers.csv')\n",
    "tickers = df['ticker'].tolist()\n",
    "# Remove emojis if exists\n",
    "text = get_emoji_regexp().sub(u'', text)\n",
    "text = re.sub(r\"and|or\", \".\", text)\n",
    "\n",
    "# Break apart every word in the string into an individual word\n",
    "tokenizer = RegexpTokenizer('[^\\.]+')\n",
    "tokenized_str = tokenizer.tokenize(text)\n",
    "tokenized_str = sent_tokenize(text)\n",
    "\n",
    "print(tokenized_str)\n",
    "\n",
    "# Remove stop words\n",
    "nlp = en_core_web_sm.load()\n",
    "all_stopwords = nlp.Defaults.stop_words\n",
    "tokens_without_sw = [word for word in tokenized_str if word not in all_stopwords]\n",
    "\n",
    "lemmatizer = WordNetLemmatizer()\n",
    "lemmatized_tokens = ([lemmatizer.lemmatize(word) for word in tokens_without_sw])\n",
    "stemmer = PorterStemmer()\n",
    "stem_tokens = ([stemmer.stem(word) for word in tokens_without_sw])\n",
    "cleaned_output = lemmatized_tokens\n",
    "\n",
    "# Apply a sentiment analyzer\n",
    "sia = SIA()\n",
    "result = []\n",
    "\n",
    "for sentences in cleaned_output:\n",
    "    data = dict()\n",
    "    pol_score = sia.polarity_scores(sentences)\n",
    "    data['ticker'] = None\n",
    "\n",
    "    for ticker in tickers:\n",
    "        if ticker in sentences:\n",
    "            data['ticker'] = ticker\n",
    "\n",
    "    if not data['ticker']:\n",
    "        continue\n",
    "    \n",
    "    data['sentiment_score'] = pol_score['compound']\n",
    "    result.append(data)\n",
    "    \n",
    "print(result)"
   ]
  },
  {
   "cell_type": "code",
   "execution_count": null,
   "metadata": {},
   "outputs": [],
   "source": []
  }
 ],
 "metadata": {
  "kernelspec": {
   "display_name": "Python 3",
   "language": "python",
   "name": "python3"
  },
  "language_info": {
   "codemirror_mode": {
    "name": "ipython",
    "version": 3
   },
   "file_extension": ".py",
   "mimetype": "text/x-python",
   "name": "python",
   "nbconvert_exporter": "python",
   "pygments_lexer": "ipython3",
   "version": "3.6.9"
  }
 },
 "nbformat": 4,
 "nbformat_minor": 4
}
