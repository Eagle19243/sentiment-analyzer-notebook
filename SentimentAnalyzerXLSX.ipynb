{
 "cells": [
  {
   "cell_type": "markdown",
   "metadata": {},
   "source": [
    "# Install Dependencies"
   ]
  },
  {
   "cell_type": "code",
   "execution_count": 1,
   "metadata": {},
   "outputs": [],
   "source": [
    "# !pip install nltk\n",
    "# !pip install pandas\n",
    "# !pip install vaderSentiment"
   ]
  },
  {
   "cell_type": "markdown",
   "metadata": {},
   "source": [
    "# Run"
   ]
  },
  {
   "cell_type": "code",
   "execution_count": 2,
   "metadata": {},
   "outputs": [],
   "source": [
    "import json\n",
    "import re\n",
    "import nltk\n",
    "import pandas as pd\n",
    "from openpyxl import Workbook, load_workbook\n",
    "\n",
    "# nltk.download('wordnet')\n",
    "# nltk.download('vader_lexicon')\n",
    "# nltk.download('punkt')\n",
    "\n",
    "from nltk.tokenize import RegexpTokenizer, sent_tokenize\n",
    "from vaderSentiment.vaderSentiment import SentimentIntensityAnalyzer as SIA"
   ]
  },
  {
   "cell_type": "markdown",
   "metadata": {},
   "source": [
    "## Input File"
   ]
  },
  {
   "cell_type": "code",
   "execution_count": 3,
   "metadata": {},
   "outputs": [],
   "source": [
    "file = './data.xlsx'"
   ]
  },
  {
   "cell_type": "markdown",
   "metadata": {},
   "source": [
    "## Load tickers"
   ]
  },
  {
   "cell_type": "code",
   "execution_count": 4,
   "metadata": {},
   "outputs": [],
   "source": [
    "df = pd.read_csv('./cleaned_tickers.csv')\n",
    "tickers = df['ticker'].tolist()"
   ]
  },
  {
   "cell_type": "markdown",
   "metadata": {},
   "source": [
    "## Function to get sentiment from a text"
   ]
  },
  {
   "cell_type": "code",
   "execution_count": 5,
   "metadata": {},
   "outputs": [],
   "source": [
    "def get_sentiment(text):\n",
    "    # Split sentences\n",
    "    text = re.sub(r'\\sand\\s|\\sor\\s', '. ', text)\n",
    "    tokenized_str = sent_tokenize(text)\n",
    "\n",
    "    # Apply a sentiment analyzer\n",
    "    sia = SIA()\n",
    "    result = dict()\n",
    "\n",
    "    for sentence in tokenized_str:\n",
    "        pol_score = sia.polarity_scores(sentence)\n",
    "        tokenizer = RegexpTokenizer('\\w+|\\$[\\d\\.]+|http\\S+')\n",
    "        words = tokenizer.tokenize(sentence)\n",
    "        ticker = None\n",
    "\n",
    "        for word in words:\n",
    "            if word in tickers:\n",
    "                ticker = word\n",
    "\n",
    "        if not ticker:\n",
    "            continue\n",
    "\n",
    "        if ticker in result:\n",
    "            result[ticker] = pol_score['compound'] if pol_score['compound'] > result[ticker] else result[ticker]\n",
    "        else:\n",
    "            result[ticker] = pol_score['compound']\n",
    "\n",
    "    data = []\n",
    "    for ticker, sentiment_score in result.items():\n",
    "        data.append({\n",
    "            'ticker': ticker,\n",
    "            'sentiment_score': sentiment_score\n",
    "        })\n",
    "    return data"
   ]
  },
  {
   "cell_type": "code",
   "execution_count": 6,
   "metadata": {},
   "outputs": [
    {
     "name": "stdout",
     "output_type": "stream",
     "text": [
      "completed\n"
     ]
    }
   ],
   "source": [
    "wb = load_workbook(filename=file)\n",
    "ws = wb.worksheets[0]\n",
    "\n",
    "ws.cell(row=1, column=4, value='Library Output')\n",
    "\n",
    "for i in range(2, ws.max_row + 1):\n",
    "    title = ws.cell(row=i, column=1).value\n",
    "    body = ws.cell(row=i, column=2).value\n",
    "    \n",
    "    if not title and not body:\n",
    "        break\n",
    "    \n",
    "    sentiment = get_sentiment(f'{title}\\n\\n{body}')\n",
    "    ws.cell(row=i, column=4, value=str(sentiment))\n",
    "    \n",
    "wb.save(filename=file)\n",
    "print('completed')"
   ]
  }
 ],
 "metadata": {
  "kernelspec": {
   "display_name": "Python 3",
   "language": "python",
   "name": "python3"
  },
  "language_info": {
   "codemirror_mode": {
    "name": "ipython",
    "version": 3
   },
   "file_extension": ".py",
   "mimetype": "text/x-python",
   "name": "python",
   "nbconvert_exporter": "python",
   "pygments_lexer": "ipython3",
   "version": "3.8.5"
  }
 },
 "nbformat": 4,
 "nbformat_minor": 4
}
