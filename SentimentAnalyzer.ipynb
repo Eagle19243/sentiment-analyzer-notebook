{
 "cells": [
  {
   "cell_type": "markdown",
   "metadata": {},
   "source": [
    "# Install Dependencies"
   ]
  },
  {
   "cell_type": "code",
   "execution_count": 1,
   "metadata": {},
   "outputs": [],
   "source": [
    "# !pip install emoji\n",
    "# !pip install nltk\n",
    "# !pip install pandas\n",
    "# !pip install -U spacy\n",
    "# !python -m spacy download en_core_web_sm"
   ]
  },
  {
   "cell_type": "markdown",
   "metadata": {},
   "source": [
    "# Run"
   ]
  },
  {
   "cell_type": "code",
   "execution_count": 2,
   "metadata": {},
   "outputs": [],
   "source": [
    "import json\n",
    "import re\n",
    "import spacy\n",
    "import nltk\n",
    "import en_core_web_sm\n",
    "import pandas as pd\n",
    "from emoji import get_emoji_regexp\n",
    "\n",
    "# nltk.download('wordnet')\n",
    "# nltk.download('vader_lexicon')\n",
    "# nltk.download('punkt')\n",
    "\n",
    "from nltk.corpus import stopwords\n",
    "from nltk.tokenize import RegexpTokenizer, sent_tokenize\n",
    "from nltk.stem import WordNetLemmatizer\n",
    "from nltk.stem import PorterStemmer\n",
    "from nltk import FreqDist\n",
    "from nltk.sentiment.vader import SentimentIntensityAnalyzer as SIA"
   ]
  },
  {
   "cell_type": "code",
   "execution_count": 3,
   "metadata": {},
   "outputs": [
    {
     "name": "stdout",
     "output_type": "stream",
     "text": [
      "Came For A Quick Buck, Stayed For The Trench Warfare\n"
     ]
    }
   ],
   "source": [
    "text = input()"
   ]
  },
  {
   "cell_type": "code",
   "execution_count": 4,
   "metadata": {},
   "outputs": [
    {
     "name": "stdout",
     "output_type": "stream",
     "text": [
      "[{'ticker': 'A', 'sentiment_score': -0.296}]\n"
     ]
    }
   ],
   "source": [
    "# Load tickers\n",
    "df = pd.read_csv('./cleaned_tickers.csv')\n",
    "tickers = df['ticker'].tolist()\n",
    "\n",
    "# Remove emojis if exists\n",
    "text = get_emoji_regexp().sub(u'', text)\n",
    "text = re.sub(r'\\sand\\s|\\sor\\s', '. ', text)\n",
    "tokenized_str = sent_tokenize(text)\n",
    "\n",
    "# Remove stop words\n",
    "nlp = en_core_web_sm.load()\n",
    "all_stopwords = nlp.Defaults.stop_words\n",
    "tokens_without_sw = [word for word in tokenized_str if word not in all_stopwords]\n",
    "\n",
    "lemmatizer = WordNetLemmatizer()\n",
    "lemmatized_tokens = ([lemmatizer.lemmatize(word) for word in tokens_without_sw])\n",
    "cleaned_output = lemmatized_tokens\n",
    "\n",
    "# Apply a sentiment analyzer\n",
    "sia = SIA()\n",
    "result = dict()\n",
    "\n",
    "for sentence in cleaned_output:\n",
    "    pol_score = sia.polarity_scores(sentence)\n",
    "    tokenizer = RegexpTokenizer('\\w+|\\$[\\d\\.]+|http\\S+')\n",
    "    words = tokenizer.tokenize(sentence)\n",
    "    ticker = None\n",
    "    \n",
    "    for word in words:\n",
    "        if word in tickers:\n",
    "            ticker = word\n",
    "\n",
    "    if not ticker:\n",
    "        continue\n",
    "    \n",
    "    if ticker in result:\n",
    "        result[ticker] = pol_score['compound'] if pol_score['compound'] > result[ticker] else result[ticker]\n",
    "    else:\n",
    "        result[ticker] = pol_score['compound']\n",
    "    \n",
    "data = []\n",
    "for ticker, sentiment_score in result.items():\n",
    "    data.append({\n",
    "        'ticker': ticker,\n",
    "        'sentiment_score': sentiment_score\n",
    "    })\n",
    "print(data)"
   ]
  },
  {
   "cell_type": "code",
   "execution_count": null,
   "metadata": {},
   "outputs": [],
   "source": []
  }
 ],
 "metadata": {
  "kernelspec": {
   "display_name": "Python 3",
   "language": "python",
   "name": "python3"
  },
  "language_info": {
   "codemirror_mode": {
    "name": "ipython",
    "version": 3
   },
   "file_extension": ".py",
   "mimetype": "text/x-python",
   "name": "python",
   "nbconvert_exporter": "python",
   "pygments_lexer": "ipython3",
   "version": "3.8.5"
  }
 },
 "nbformat": 4,
 "nbformat_minor": 4
}
