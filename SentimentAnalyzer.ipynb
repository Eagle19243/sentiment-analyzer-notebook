{
 "cells": [
  {
   "cell_type": "markdown",
   "metadata": {},
   "source": [
    "# Install Dependencies"
   ]
  },
  {
   "cell_type": "code",
   "execution_count": 13,
   "metadata": {},
   "outputs": [],
   "source": [
    "# !pip install emoji\n",
    "# !pip install nltk\n",
    "# !pip install pandas\n",
    "# !pip install -U spacy\n",
    "# !python -m spacy download en_core_web_sm"
   ]
  },
  {
   "cell_type": "markdown",
   "metadata": {},
   "source": [
    "# Run"
   ]
  },
  {
   "cell_type": "code",
   "execution_count": 14,
   "metadata": {},
   "outputs": [],
   "source": [
    "import json\n",
    "import re\n",
    "import spacy\n",
    "import nltk\n",
    "import en_core_web_sm\n",
    "import pandas as pd\n",
    "from emoji import get_emoji_regexp\n",
    "\n",
    "# nltk.download('wordnet')\n",
    "# nltk.download('vader_lexicon')\n",
    "# nltk.download('punkt')\n",
    "\n",
    "from nltk.corpus import stopwords\n",
    "from nltk.tokenize import RegexpTokenizer, sent_tokenize\n",
    "from nltk.stem import WordNetLemmatizer\n",
    "from nltk.stem import PorterStemmer\n",
    "from nltk import FreqDist\n",
    "from nltk.sentiment.vader import SentimentIntensityAnalyzer as SIA"
   ]
  },
  {
   "cell_type": "code",
   "execution_count": 15,
   "metadata": {},
   "outputs": [
    {
     "name": "stdout",
     "output_type": "stream",
     "text": [
      "TSLA is going to the moon. I think TSLA is the greatest company ever and GM and other car manufacturers don't stand a chance when competing with TSLA\n"
     ]
    }
   ],
   "source": [
    "text = input()"
   ]
  },
  {
   "cell_type": "code",
   "execution_count": 16,
   "metadata": {},
   "outputs": [
    {
     "ename": "ValueError",
     "evalue": "too many values to unpack (expected 2)",
     "output_type": "error",
     "traceback": [
      "\u001b[1;31m---------------------------------------------------------------------------\u001b[0m",
      "\u001b[1;31mValueError\u001b[0m                                Traceback (most recent call last)",
      "\u001b[1;32m<ipython-input-16-68acced14fea>\u001b[0m in \u001b[0;36m<module>\u001b[1;34m\u001b[0m\n\u001b[0;32m     45\u001b[0m \u001b[1;33m\u001b[0m\u001b[0m\n\u001b[0;32m     46\u001b[0m \u001b[0mdata\u001b[0m \u001b[1;33m=\u001b[0m \u001b[1;33m[\u001b[0m\u001b[1;33m]\u001b[0m\u001b[1;33m\u001b[0m\u001b[1;33m\u001b[0m\u001b[0m\n\u001b[1;32m---> 47\u001b[1;33m \u001b[1;32mfor\u001b[0m \u001b[0mticker\u001b[0m\u001b[1;33m,\u001b[0m \u001b[0msentiment_score\u001b[0m \u001b[1;32min\u001b[0m \u001b[0mresult\u001b[0m\u001b[1;33m:\u001b[0m\u001b[1;33m\u001b[0m\u001b[1;33m\u001b[0m\u001b[0m\n\u001b[0m\u001b[0;32m     48\u001b[0m     data.append({\n\u001b[0;32m     49\u001b[0m         \u001b[1;34m'ticker'\u001b[0m\u001b[1;33m:\u001b[0m \u001b[0mticker\u001b[0m\u001b[1;33m,\u001b[0m\u001b[1;33m\u001b[0m\u001b[1;33m\u001b[0m\u001b[0m\n",
      "\u001b[1;31mValueError\u001b[0m: too many values to unpack (expected 2)"
     ]
    }
   ],
   "source": [
    "# Load tickers\n",
    "df = pd.read_csv('./cleaned_tickers.csv')\n",
    "tickers = df['ticker'].tolist()\n",
    "# Remove emojis if exists\n",
    "text = get_emoji_regexp().sub(u'', text)\n",
    "text = re.sub(r\"and|or\", \".\", text)\n",
    "\n",
    "# Break apart every word in the string into an individual word\n",
    "tokenizer = RegexpTokenizer('[^\\.]+')\n",
    "tokenized_str = tokenizer.tokenize(text)\n",
    "tokenized_str = sent_tokenize(text)\n",
    "\n",
    "# Remove stop words\n",
    "nlp = en_core_web_sm.load()\n",
    "all_stopwords = nlp.Defaults.stop_words\n",
    "tokens_without_sw = [word for word in tokenized_str if word not in all_stopwords]\n",
    "\n",
    "lemmatizer = WordNetLemmatizer()\n",
    "lemmatized_tokens = ([lemmatizer.lemmatize(word) for word in tokens_without_sw])\n",
    "stemmer = PorterStemmer()\n",
    "stem_tokens = ([stemmer.stem(word) for word in tokens_without_sw])\n",
    "cleaned_output = lemmatized_tokens\n",
    "\n",
    "# Apply a sentiment analyzer\n",
    "sia = SIA()\n",
    "result = dict()\n",
    "\n",
    "for sentence in cleaned_output:\n",
    "    pol_score = sia.polarity_scores(sentence)\n",
    "    ticker = None\n",
    "    tokenizer = RegexpTokenizer('\\w+|\\$[\\d\\.]+|http\\S+')\n",
    "    words = tokenizer.tokenize(sentence)\n",
    "    \n",
    "    for word in words:\n",
    "        if word in tickers:\n",
    "            ticker = word\n",
    "\n",
    "    if not ticker:\n",
    "        continue\n",
    "    \n",
    "    if ticker in result:\n",
    "        result[ticker] = pol_score['compound'] if pol_score['compound'] > result[ticker] else result[ticker]\n",
    "    else:\n",
    "        result[ticker] = pol_score['compound']\n",
    "    \n",
    "data = []\n",
    "for ticker, sentiment_score in result.items():\n",
    "    data.append({\n",
    "        'ticker': ticker,\n",
    "        'sentiment_score': sentiment_score\n",
    "    })\n",
    "print(data)"
   ]
  },
  {
   "cell_type": "code",
   "execution_count": null,
   "metadata": {},
   "outputs": [],
   "source": []
  }
 ],
 "metadata": {
  "kernelspec": {
   "display_name": "Python 3",
   "language": "python",
   "name": "python3"
  },
  "language_info": {
   "codemirror_mode": {
    "name": "ipython",
    "version": 3
   },
   "file_extension": ".py",
   "mimetype": "text/x-python",
   "name": "python",
   "nbconvert_exporter": "python",
   "pygments_lexer": "ipython3",
   "version": "3.8.5"
  }
 },
 "nbformat": 4,
 "nbformat_minor": 4
}
