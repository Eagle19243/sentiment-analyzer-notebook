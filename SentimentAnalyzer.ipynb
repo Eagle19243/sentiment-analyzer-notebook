{
 "cells": [
  {
   "cell_type": "markdown",
   "metadata": {},
   "source": [
    "# Install Dependencies"
   ]
  },
  {
   "cell_type": "code",
   "execution_count": 1,
   "metadata": {},
   "outputs": [],
   "source": [
    "!pip install emoji\n",
    "!pip install nltk\n",
    "!pip install pandas\n",
    "!pip install -U spacy\n",
    "!python -m spacy download en_core_web_sm"
   ]
  },
  {
   "cell_type": "markdown",
   "metadata": {},
   "source": [
    "# Run"
   ]
  },
  {
   "cell_type": "code",
   "execution_count": 2,
   "metadata": {},
   "outputs": [],
   "source": [
    "import json\n",
    "import re\n",
    "import spacy\n",
    "import nltk\n",
    "import en_core_web_sm\n",
    "import pandas as pd\n",
    "from emoji import get_emoji_regexp\n",
    "\n",
    "nltk.download('wordnet')\n",
    "nltk.download('vader_lexicon')\n",
    "\n",
    "from nltk.corpus import stopwords\n",
    "from nltk.tokenize import RegexpTokenizer\n",
    "from nltk.stem import WordNetLemmatizer\n",
    "from nltk.stem import PorterStemmer\n",
    "from nltk import FreqDist\n",
    "from nltk.sentiment.vader import SentimentIntensityAnalyzer as SIA"
   ]
  },
  {
   "cell_type": "code",
   "execution_count": 3,
   "metadata": {},
   "outputs": [],
   "source": [
    "text = \"TSLA is going to the moon. I think TSLA is the greatest company ever and GM and other car manufacturers don't stand a chance when competing with TSLA\""
   ]
  },
  {
   "cell_type": "code",
   "execution_count": 4,
   "metadata": {},
   "outputs": [
    {
     "name": "stdout",
     "output_type": "stream",
     "text": [
      "    neg  neu  pos  compound         words\n",
      "0   0.0  1.0  0.0    0.0000          TSLA\n",
      "1   0.0  1.0  0.0    0.0000         going\n",
      "2   0.0  1.0  0.0    0.0000          moon\n",
      "3   0.0  0.0  0.0    0.0000             I\n",
      "4   0.0  1.0  0.0    0.0000         think\n",
      "5   0.0  1.0  0.0    0.0000          TSLA\n",
      "6   0.0  0.0  1.0    0.6369      greatest\n",
      "7   0.0  1.0  0.0    0.0000       company\n",
      "8   0.0  1.0  0.0    0.0000            GM\n",
      "9   0.0  1.0  0.0    0.0000           car\n",
      "10  0.0  1.0  0.0    0.0000  manufacturer\n",
      "11  0.0  1.0  0.0    0.0000           don\n",
      "12  0.0  0.0  0.0    0.0000             t\n",
      "13  0.0  1.0  0.0    0.0000         stand\n",
      "14  0.0  0.0  1.0    0.2500        chance\n",
      "15  0.0  1.0  0.0    0.0000     competing\n",
      "16  0.0  1.0  0.0    0.0000          TSLA\n"
     ]
    }
   ],
   "source": [
    " # Remove emojis if exists\n",
    "text = get_emoji_regexp().sub(u'', text)\n",
    "\n",
    "# Break apart every word in the string into an individual word\n",
    "tokenizer = RegexpTokenizer('\\w+|\\$[\\d\\.]+|http\\S+')\n",
    "tokenized_str = tokenizer.tokenize(text)\n",
    "\n",
    "# Convert tokens into lowercase\n",
    "# lower_str_tokenized = [word.lower() for word in tokenized_str]\n",
    "\n",
    "# Remove stop words\n",
    "nlp = en_core_web_sm.load()\n",
    "all_stopwords = nlp.Defaults.stop_words\n",
    "tokens_without_sw = [word for word in tokenized_str if word not in all_stopwords]\n",
    "\n",
    "lemmatizer = WordNetLemmatizer()\n",
    "lemmatized_tokens = ([lemmatizer.lemmatize(word) for word in tokens_without_sw])\n",
    "stemmer = PorterStemmer()\n",
    "stem_tokens = ([stemmer.stem(word) for word in tokens_without_sw])\n",
    "cleaned_output = lemmatized_tokens\n",
    "\n",
    "# Apply a sentiment analyzer\n",
    "sia = SIA()\n",
    "results = []\n",
    "\n",
    "for sentences in cleaned_output:\n",
    "    pol_score = sia.polarity_scores(sentences)\n",
    "    pol_score['words'] = sentences\n",
    "    results.append(pol_score)\n",
    "\n",
    "pd.set_option('display.max_columns', None, 'max_colwidth', None)\n",
    "df = pd.DataFrame.from_records(results)\n",
    "print(df)"
   ]
  }
 ],
 "metadata": {
  "kernelspec": {
   "display_name": "Python 3",
   "language": "python",
   "name": "python3"
  },
  "language_info": {
   "codemirror_mode": {
    "name": "ipython",
    "version": 3
   },
   "file_extension": ".py",
   "mimetype": "text/x-python",
   "name": "python",
   "nbconvert_exporter": "python",
   "pygments_lexer": "ipython3",
   "version": "3.8.5"
  }
 },
 "nbformat": 4,
 "nbformat_minor": 4
}
